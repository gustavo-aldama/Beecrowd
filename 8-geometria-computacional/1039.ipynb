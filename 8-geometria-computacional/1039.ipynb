{
 "cells": [
  {
   "cell_type": "code",
   "execution_count": null,
   "id": "1cb462c4",
   "metadata": {},
   "outputs": [],
   "source": [
    "import math as mt\n",
    "while True:\n",
    "    try:\n",
    "        a, b, c, d, e, f = map(int, input().split(\" \"))\n",
    "        sum = mt.pow(b-e,2) + mt.pow(c-f,2)\n",
    "        dist = mt.pow(sum,0.5)\n",
    "        if dist+d <= a:\n",
    "            print(\"RICO\")\n",
    "        else:\n",
    "            print(\"MORTO\")\n",
    "    except EOFError:\n",
    "        break"
   ]
  }
 ],
 "metadata": {
  "kernelspec": {
   "display_name": "Python 3 (ipykernel)",
   "language": "python",
   "name": "python3"
  },
  "language_info": {
   "codemirror_mode": {
    "name": "ipython",
    "version": 3
   },
   "file_extension": ".py",
   "mimetype": "text/x-python",
   "name": "python",
   "nbconvert_exporter": "python",
   "pygments_lexer": "ipython3",
   "version": "3.11.4"
  }
 },
 "nbformat": 4,
 "nbformat_minor": 5
}
